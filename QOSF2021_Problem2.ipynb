{
  "nbformat": 4,
  "nbformat_minor": 0,
  "metadata": {
    "colab": {
      "name": "QOSF2021_Problem2.ipynb",
      "provenance": [],
      "collapsed_sections": [],
      "authorship_tag": "ABX9TyN1YBOozDZjyFYuZXpnSuvz",
      "include_colab_link": true
    },
    "kernelspec": {
      "name": "python3",
      "display_name": "Python 3"
    }
  },
  "cells": [
    {
      "cell_type": "markdown",
      "metadata": {
        "id": "view-in-github",
        "colab_type": "text"
      },
      "source": [
        "<a href=\"https://colab.research.google.com/github/Ben-Foxman/QOSF_Submission/blob/main/QOSF2021_Problem2.ipynb\" target=\"_parent\"><img src=\"https://colab.research.google.com/assets/colab-badge.svg\" alt=\"Open In Colab\"/></a>"
      ]
    },
    {
      "cell_type": "markdown",
      "metadata": {
        "id": "J_9MdTevqdrl"
      },
      "source": [
        "Ben Foxman, QOSF Screening Test for Spring 2021. Problem 2 - Error  Detection and Correction for a Simple Quantum Circuit. "
      ]
    },
    {
      "cell_type": "code",
      "metadata": {
        "id": "CH52iWXXK54L"
      },
      "source": [
        "import numpy as np\n",
        "from qiskit import QuantumCircuit\n",
        "from qiskit.tools.visualization import plot_histogram\n",
        "from qiskit.test.mock import FakeVigo\n",
        "from qiskit.circuit.library import IGate, XGate, ZGate\n",
        "from matplotlib import pyplot as plt\n",
        "import sys"
      ],
      "execution_count": 42,
      "outputs": []
    },
    {
      "cell_type": "markdown",
      "metadata": {
        "id": "cBNQLhTH5nWI"
      },
      "source": [
        "**Explanation of the Error Detection Mechanism**.\n",
        "\n",
        " The first important observation to make about the setup of our error-prone circuit is that *no matter what combination of error gates appear in the circuit, the resulting state of the system is always one of the four Bell states* (The wikipedia article provides a nice introduction to what Bell states are). The specific bell state created by some combination of error gates are as follows (In each case, the error gate on qubit 0 is listed first):\n",
        "\n",
        "(I, I) $\\rightarrow \\Phi^+$, (X, I) $\\rightarrow \\Phi^+$, (I, X) $\\rightarrow \\Psi^+$, (X, X) $\\rightarrow \\Psi^+$, (I, Z) $\\rightarrow \\Phi^+$, (X, Z) $\\rightarrow \\Phi^+$, (Z, I) $\\rightarrow \\Phi^-$, (Z, X) $\\rightarrow \\Psi^-$, (Z, Z) $\\rightarrow \\Phi^-$. \n",
        "\n",
        "To see why this is the case, one can use matrix multiplication of the corresponding matrices, or just analyze the behavior of CNOT on the various control and target qubits. \n",
        "\n",
        "Thus, we can simplify the problem of error detection (and correction!) to the following: \n",
        "\n",
        "*Given that our system is in an arbitrary bell state, how do we transform it into $\\Phi^+$?.*\n",
        "\n",
        "As it turns out, this is very easy to do if we shift our focus from the computational basis to the Hadamard basis, as the bell states are just linear combinations of Hadamard basis states. Once we are working in the Hadamard basis, there is a very nice correspondence between the 4 bell states and bit strings of length 2. This mapping is also the essence of the superdense coding protocol. The wikipedia article \"Superdense Coding\" is a great resource for understanding the inner workings of this map between bits and qubits.\n",
        "\n",
        "Via this mapping, our desired bell state $\\Phi^+$, becomes the bit string 00. Hence, all we need to do is send our bell state through the map, add some gates to turn the 2-bit string we get into 00, and send 00 back the other direction, giving us the correct bell state $\\Phi^+$."
      ]
    },
    {
      "cell_type": "code",
      "metadata": {
        "colab": {
          "base_uri": "https://localhost:8080/"
        },
        "id": "8BSC7KJKYgDO",
        "outputId": "ac946223-6172-4008-a375-6941084009ab"
      },
      "source": [
        "# initialize the sub-circuit responsible for error-checking\n",
        "error_checker = QuantumCircuit(4)\n",
        "# go to Hadamard basis\n",
        "error_checker.cx(0, 1)\n",
        "error_checker.h(0)\n",
        "# change the logical qubits to 00, using 2 throwaway qubits\n",
        "error_checker.cx(0, 2)\n",
        "error_checker.cx(2, 0)\n",
        "error_checker.cx(1, 3)\n",
        "error_checker.cx(3, 1)\n",
        "# revert back to the computational basis and set up desired bell state\n",
        "error_checker.h(0)\n",
        "error_checker.cx(0, 1)\n",
        "error_checker_inst = error_checker.to_instruction()\n",
        "print(error_checker.depth())\n"
      ],
      "execution_count": 43,
      "outputs": [
        {
          "output_type": "stream",
          "text": [
            "6\n"
          ],
          "name": "stdout"
        }
      ]
    },
    {
      "cell_type": "markdown",
      "metadata": {
        "id": "6nBpZKV_VtVe"
      },
      "source": [
        "Since we will be using a noise-free simulation of Quantum Computer, we don't have to worry about many common sources of additional error when executing circuits on a real quantum computer. However, we should still design our algorithm as if it were to be used on a real quantum computer. Notice that our error-correcting circuit exclusively uses CNOT and Hadamard gates, both members of common universal gate sets. This circuit also has a relatively small depth (6), and requires only 2 ancillary qubits. In practice, keeping these numbers small helps to increase the fidelity of the circuit.   \n",
        "\n",
        "Next, we will create subcircuits consisting of I, X, and Z gates, which will eventually be inserted probabilistically into the circuit."
      ]
    },
    {
      "cell_type": "code",
      "metadata": {
        "id": "TRntjmheWDqQ"
      },
      "source": [
        "# create I, X, and Z gates which can be inserted probabilistically into the circuit\n",
        "i = QuantumCircuit(1)\n",
        "i_err = i.to_instruction()\n",
        "x = QuantumCircuit(1)\n",
        "x.x(0)\n",
        "x_err = x.to_instruction()\n",
        "z = QuantumCircuit(1)\n",
        "z.z(0)\n",
        "z_err = z.to_instruction()"
      ],
      "execution_count": 44,
      "outputs": []
    },
    {
      "cell_type": "markdown",
      "metadata": {
        "id": "PN4bbMvoC_0F"
      },
      "source": [
        "Now, we write a function to create a circuit with error gates chosen according to the specified probability distribution. "
      ]
    },
    {
      "cell_type": "code",
      "metadata": {
        "id": "CD0zbe4KLYxw"
      },
      "source": [
        " \"\"\"\n",
        "init_circuits: create a list of circuits to perform measurements on.\n",
        "\n",
        "error_probabilities: 3-tuple giving probability of (I, X, Z) error gates. \n",
        "These numbers must be non_zero and sum to 1. \n",
        "iters: # of circuits to create\n",
        "fix_errors: whether or not to add the error correcting circuit\n",
        "\n",
        "returns: a list of circuits, initialized according to arguments\n",
        "\"\"\"\n",
        "def init_circuits(error_probabilities, iters, fix_errors):\n",
        "  circs = [] # circuits generated with errors according to error_probabilities\n",
        "  for _ in range(iters):\n",
        "    # create the circuit and add error gates\n",
        "    circ = QuantumCircuit(4, 4)\n",
        "    circ.h(0)\n",
        "    # error check the error probabilities\n",
        "    if 0 in error_probabilities or np.sum(error_probabilities) != 1:\n",
        "      sys.exit(\"Probabilities must sum to one, and all be nonzero.\")\n",
        "    # add error gates probabilistically\n",
        "    error_gates = np.random.choice([i_err, x_err, z_err], 2, p=error_probabilities)\n",
        "    circ.append(error_gates[0], [0])\n",
        "    circ.append(error_gates[1], [1])\n",
        "    circ.cx(0, 1)\n",
        "    # append error detection/correction if desired\n",
        "    if fix_errors:  \n",
        "      circ.append(error_checker_inst, [0, 1, 2, 3])\n",
        "    # measure the logical qubits and add to our list\n",
        "    circ.measure([0, 1], [0, 1]) \n",
        "    circs.append(circ) \n",
        "  return circs"
      ],
      "execution_count": 45,
      "outputs": []
    },
    {
      "cell_type": "markdown",
      "metadata": {
        "id": "ezlllMrFQ0UG"
      },
      "source": [
        "Now, it is time to take measurements, to ensure that our error-correction scheme is working as intended. First, we will write a function to facilitate testing on different sets of initial conditions. "
      ]
    },
    {
      "cell_type": "code",
      "metadata": {
        "id": "QIcGkHpKO5Oy"
      },
      "source": [
        " \"\"\"\n",
        "run_simulation: create and measure circuits\n",
        "\n",
        "error_probabilities: 3-tuple giving probability of (I, X, Z) error gates. \n",
        "These numbers must be non_zero and sum to 1. \n",
        "iters: # of circuits to create and measure\n",
        "fix_errors: whether or not to add the error correcting circuit\n",
        "\n",
        "returns: a 2-tuple. Index 0 - a dict of measurements, with keys being measured \n",
        "state and values being the number of times measured. Index 1 - the number of sign\n",
        "flip errors encountered.\n",
        "\"\"\"\n",
        "def run_simulation(error_probabilities, iters, fix_errors):\n",
        "  backend = Aer.get_backend('statevector_simulator')\n",
        "  sign_errors = 0 # sign flip errors detected\n",
        "  hits = {'00': 0, '01': 0, '10': 0, '11': 0} \n",
        "  circs = init_circuits(error_probabilities, iters, fix_errors)\n",
        "  # for each circuit, take #shots measurements\n",
        "  for circ in circs:  \n",
        "    vector = execute(circ, backend).result().get_statevector()\n",
        "    vector_squared = (np.power(vector, 2))\n",
        "    # check for sign flips which were not corrected (-.000001 for random error tolerance)\n",
        "    if any(vector[vector.real <= -.000001]):\n",
        "      sign_errors += 1\n",
        "    # get the last two bits of the measurement - these are the logical qubits we care about\n",
        "    hit = np.where(vector_squared == np.max(vector_squared))[0][0] % 4\n",
        "    # convert number to binary, add to hits dictionary\n",
        "    if hit == 0:\n",
        "      hits[bin(hit)[2:] + '0'] += 1\n",
        "    elif hit == 1:\n",
        "      hits['0' + bin(hit)[2:]] += 1\n",
        "    else:\n",
        "      hits[bin(hit)[2:]] += 1\n",
        "\n",
        "  return (hits, sign_errors)"
      ],
      "execution_count": 46,
      "outputs": []
    },
    {
      "cell_type": "markdown",
      "metadata": {
        "id": "kaZMAErqdfwn"
      },
      "source": [
        "First, as a baseline, we will run the simulation without fixing errors (fix_errors=False), and having equal probability for each of I, X, and Z. \n",
        "Notice that about 2/3 of the measurements (00 or 11) correspond to underlying bell state of $\\Phi^+$ or $\\Phi^-$, and the other 1/3 (01 or 10) correspond to $\\Psi^+$ or $\\Psi^-$, in accordance with the proportions shown in the first text block. These measurements will not capture sign flips caused by a Z gate, so we will also print out an error message if any underlying statevector has a negative real part in one of its amplitudes (<= -.000001 to account for computational errors under the hood). Notice that about 1/6 of the statevectors have a sign flip error, which makes sense as there is a 50/50 chance of such error when the bell state is $\\Phi^-$ or $\\Psi^-$."
      ]
    },
    {
      "cell_type": "code",
      "metadata": {
        "colab": {
          "base_uri": "https://localhost:8080/",
          "height": 364
        },
        "id": "-Ypd7J8TeqE7",
        "outputId": "f42012e2-f879-46ca-b48b-ac2ae4d5d138"
      },
      "source": [
        "n_measurements = 10000\n",
        "hits, sign_errors = run_simulation(np.array([1/3, 1/3, 1/3]), n_measurements, False)\n",
        "print(\"Number of statevectors with sign flip errors={}, {}% of {} measurements.\"\n",
        "  .format(sign_errors, np.round(sign_errors/n_measurements/.01, 2), n_measurements))\n",
        "plot_histogram(hits, title='Measurements of the Circuits with no Error Correction')"
      ],
      "execution_count": 50,
      "outputs": [
        {
          "output_type": "stream",
          "text": [
            "Number of statevectors with sign flip errors=1681, 16.81% of 10000 measurements.\n"
          ],
          "name": "stdout"
        },
        {
          "output_type": "execute_result",
          "data": {
            "image/png": "[encoded data removed]",
            "text/plain": [
              "<Figure size 504x360 with 1 Axes>"
            ]
          },
          "metadata": {
            "tags": []
          },
          "execution_count": 50
        }
      ]
    },
    {
      "cell_type": "markdown",
      "metadata": {
        "id": "FfudCW3Aifo7"
      },
      "source": [
        "Now, we will add the error detection/correction mechanism to the circuit. Now, the circuit mimics the ideal behavior of the circuit - to end in the state $\\Phi^+$.  "
      ]
    },
    {
      "cell_type": "code",
      "metadata": {
        "id": "i21gkAEpjMix",
        "colab": {
          "base_uri": "https://localhost:8080/",
          "height": 364
        },
        "outputId": "f02b3829-abfd-43ba-81c2-dc35a1976150"
      },
      "source": [
        "hits, sign_errors = run_simulation(np.array([1/3, 1/3, 1/3]), n_measurements, True)\n",
        "print(\"Number of statevectors with sign flip errors={}, {}% of {} measurements.\"\n",
        "  .format(sign_errors, np.round(sign_errors/n_measurements/.01, 2), n_measurements))\n",
        "plot_histogram(hits, title='Measurements of the Circuits with Error Correction')"
      ],
      "execution_count": 49,
      "outputs": [
        {
          "output_type": "stream",
          "text": [
            "Number of statevectors with sign flip errors=0, 0.0% of 10000 measurements.\n"
          ],
          "name": "stdout"
        },
        {
          "output_type": "execute_result",
          "data": {
            "image/png": "[encoded data removed]",
            "text/plain": [
              "<Figure size 504x360 with 1 Axes>"
            ]
          },
          "metadata": {
            "tags": []
          },
          "execution_count": 49
        }
      ]
    },
    {
      "cell_type": "markdown",
      "metadata": {
        "id": "aHSFGbH-m6Nh"
      },
      "source": [
        "And there we go! You can change up the parameters of the simulation, such as the error gate probabilities, the number of measurements, etc. In any case, the effect of the error correction will persist. Note that these experiments were done on a noise-free simulation of a quantum computer - real quantum computers will almost certainly give less than theoretical results."
      ]
    }
  ]
}